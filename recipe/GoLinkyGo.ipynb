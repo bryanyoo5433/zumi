{
 "cells": [
  {
   "cell_type": "markdown",
   "metadata": {},
   "source": [
    "To make Zümi move, you should use her Engine.\n",
    "\n",
    "See her available functions <a href=\"/edit/lib/Engine.py\">HERE</a>.\n",
    "Try to make her go forward, stop and go backwards.\n",
    "\n",
    "You may need to use time.sleep(1) beengine.gotween commands."
   ]
  },
  {
   "cell_type": "code",
   "execution_count": 22,
   "metadata": {
    "scrolled": true
   },
   "outputs": [
    {
     "name": "stdout",
     "output_type": "stream",
     "text": [
      "speed = 45\n",
      "forward\n",
      "stop\n",
      "right\n",
      "stop\n",
      "forward\n",
      "stop\n",
      "right\n",
      "stop\n",
      "forward\n",
      "stop\n",
      "right\n",
      "stop\n",
      "forward\n",
      "stop\n",
      "right\n",
      "stop\n"
     ]
    }
   ],
   "source": [
    "import time\n",
    "\n",
    "import sys\n",
    "sys.path.insert(0,'/home/pi/zumi/lib')\n",
    "import Engine as engine\n",
    "\n",
    "\n",
    "\n",
    "# Put the code to move Zumi here...\n",
    "engine.set_speed(45)\n",
    "engine.go_forward()\n",
    "time.sleep(1)\n",
    "engine.stop()\n",
    "engine.turn_right()\n",
    "time.sleep(0.4)\n",
    "engine.stop()\n",
    "engine.go_forward()\n",
    "time.sleep(1)\n",
    "engine.stop()\n",
    "\n",
    "engine.turn_right()\n",
    "time.sleep(0.4)\n",
    "engine.stop()\n",
    "engine.go_forward()\n",
    "time.sleep(1)\n",
    "engine.stop()\n",
    "\n",
    "engine.turn_right()\n",
    "time.sleep(0.4)\n",
    "engine.stop()\n",
    "engine.go_forward()\n",
    "time.sleep(1)\n",
    "engine.stop()\n",
    "\n",
    "engine.turn_right()\n",
    "time.sleep(0.4)\n",
    "engine.stop()\n",
    "\n",
    "      "
   ]
  }
 ],
 "metadata": {
  "kernelspec": {
   "display_name": "Python 3",
   "language": "python",
   "name": "python3"
  },
  "language_info": {
   "codemirror_mode": {
    "name": "ipython",
    "version": 3
   },
   "file_extension": ".py",
   "mimetype": "text/x-python",
   "name": "python",
   "nbconvert_exporter": "python",
   "pygments_lexer": "ipython3",
   "version": "3.5.3"
  }
 },
 "nbformat": 4,
 "nbformat_minor": 2
}
