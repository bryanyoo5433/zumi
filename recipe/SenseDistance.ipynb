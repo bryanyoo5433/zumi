{
 "cells": [
  {
   "cell_type": "markdown",
   "metadata": {},
   "source": [
    "# Check out the Infrared library <a href=\"/edit/lib/Infrared.py\">here</a>. \n",
    "# Make sure your Zumi board is switched on!"
   ]
  },
  {
   "cell_type": "code",
   "execution_count": null,
   "metadata": {},
   "outputs": [
    {
     "name": "stdout",
     "output_type": "stream",
     "text": [
      "627\n"
     ]
    }
   ],
   "source": [
    "import IPython.display\n",
    "import sys\n",
    "sys.path.insert(0,'/home/pi/zumi/lib')\n",
    "\n",
    "import Infrared as infrared\n",
    "import time\n",
    "\n",
    "\n",
    "# Use time.sleep(numberOfSeconds) to sleep Linky for 2 seconds before reading the IR sensors\n",
    "#engine.set_speed(45)\n",
    "while (True):\n",
    "    \n",
    "    x=infrared.get_front_distance()\n",
    "    print(x)\n",
    "\n",
    "    infrared.get_front_distance()\n",
    "    time.sleep(2)\n",
    "# Use a loop to continually read the front distance and test it with your finger\n",
    "\n",
    "#This line will clear the display so that you don't see a new line for each reading\n",
    "    IPython.display.clear_output(wait=True) "
   ]
  }
 ],
 "metadata": {
  "kernelspec": {
   "display_name": "Python 3",
   "language": "python",
   "name": "python3"
  }
 },
 "nbformat": 4,
 "nbformat_minor": 2
}
